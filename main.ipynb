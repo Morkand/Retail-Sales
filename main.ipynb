{
 "cells": [
  {
   "cell_type": "code",
   "execution_count": 1,
   "metadata": {},
   "outputs": [],
   "source": [
    "import numpy as np"
   ]
  },
  {
   "cell_type": "code",
   "execution_count": 2,
   "metadata": {},
   "outputs": [],
   "source": [
    "def cargar_datos(ruta_archivo):\n",
    "    # Carga los datos del archivo CSV utilizando NumPy\n",
    "    datos = np.genfromtxt(ruta_archivo, delimiter=',', names=True, dtype=None, encoding=None)\n",
    "    return datos"
   ]
  },
  {
   "cell_type": "code",
   "execution_count": 3,
   "metadata": {},
   "outputs": [
    {
     "name": "stdout",
     "output_type": "stream",
     "text": [
      "('Transaction_ID', 'Date', 'Customer_ID', 'Gender', 'Age', 'Product_Category', 'Quantity', 'Price_per_Unit', 'Total_Amount')\n"
     ]
    }
   ],
   "source": [
    "ruta_archivo = 'data/retail_sales_dataset.csv'\n",
    "datos = cargar_datos(ruta_archivo)\n",
    "#print(datos)\n",
    "print(datos.dtype.names)"
   ]
  },
  {
   "cell_type": "code",
   "execution_count": 4,
   "metadata": {},
   "outputs": [],
   "source": [
    "categorias = np.unique(datos['Product_Category'])\n",
    "total_ventas_por_categoria = {categoria: np.sum(datos[datos['Product_Category'] == categoria]['Total_Amount']) for categoria in categorias}"
   ]
  },
  {
   "cell_type": "code",
   "execution_count": 5,
   "metadata": {},
   "outputs": [
    {
     "name": "stdout",
     "output_type": "stream",
     "text": [
      "Total de ventas por categoría:\n",
      "Beauty: 143515\n",
      "Clothing: 155580\n",
      "Electronics: 156905\n"
     ]
    }
   ],
   "source": [
    "print(\"Total de ventas por categoría:\")\n",
    "for categoria, total in total_ventas_por_categoria.items():\n",
    "    print(f\"{categoria}: {total}\")"
   ]
  },
  {
   "cell_type": "code",
   "execution_count": 6,
   "metadata": {},
   "outputs": [
    {
     "name": "stdout",
     "output_type": "stream",
     "text": [
      "\n",
      "Promedio de ventas por categoría:\n",
      "Beauty: 467.4755700325733\n",
      "Clothing: 443.2478632478632\n",
      "Electronics: 458.7865497076023\n"
     ]
    }
   ],
   "source": [
    "promedio_ventas_por_categoria = {categoria: np.mean(datos[datos['Product_Category'] == categoria]['Total_Amount']) for categoria in categorias}\n",
    "print(\"\\nPromedio de ventas por categoría:\")\n",
    "for categoria, promedio in promedio_ventas_por_categoria.items():\n",
    "    print(f\"{categoria}: {promedio}\")"
   ]
  },
  {
   "cell_type": "code",
   "execution_count": 7,
   "metadata": {},
   "outputs": [
    {
     "name": "stdout",
     "output_type": "stream",
     "text": [
      "\n",
      "Categoría con mayores ventas: Electronics - 156905\n",
      "Categoría con menores ventas: Beauty - 143515\n"
     ]
    }
   ],
   "source": [
    "max_categoria = max(total_ventas_por_categoria, key=total_ventas_por_categoria.get)\n",
    "min_categoria = min(total_ventas_por_categoria, key=total_ventas_por_categoria.get)\n",
    "\n",
    "print(f\"\\nCategoría con mayores ventas: {max_categoria} - {total_ventas_por_categoria[max_categoria]}\")\n",
    "print(f\"Categoría con menores ventas: {min_categoria} - {total_ventas_por_categoria[min_categoria]}\")"
   ]
  },
  {
   "cell_type": "code",
   "execution_count": 8,
   "metadata": {},
   "outputs": [
    {
     "name": "stdout",
     "output_type": "stream",
     "text": [
      "\n",
      "Ventas de la categoría Beauty:\n",
      "[( 1, '2023-11-24', 'CUST001', 'Male', 34, 'Beauty', 3,  50, 150)\n",
      " ( 5, '2023-05-06', 'CUST005', 'Male', 30, 'Beauty', 2,  50, 100)\n",
      " ( 6, '2023-04-25', 'CUST006', 'Female', 45, 'Beauty', 1,  30,  30)\n",
      " (12, '2023-10-30', 'CUST012', 'Male', 35, 'Beauty', 3,  25,  75)\n",
      " (21, '2023-01-14', 'CUST021', 'Female', 50, 'Beauty', 1, 500, 500)]\n"
     ]
    }
   ],
   "source": [
    "categoria_especifica = 'Beauty'\n",
    "ventas = datos[datos['Product_Category'] == categoria_especifica]\n",
    "\n",
    "print(f\"\\nVentas de la categoría {categoria_especifica}:\")\n",
    "print(ventas[:5])"
   ]
  },
  {
   "cell_type": "code",
   "execution_count": 10,
   "metadata": {},
   "outputs": [
    {
     "name": "stdout",
     "output_type": "stream",
     "text": [
      "\n",
      "Suma total de ventas (Beauty): 143515\n",
      "Resta aplicada: 143415\n",
      "Multiplicación (doble de ventas): 287030\n",
      "Promedio diario dividido entre 7 días: 20502.14285714286\n"
     ]
    }
   ],
   "source": [
    "suma_ventas = np.sum(ventas['Total_Amount'])\n",
    "\n",
    "resta_ventas = suma_ventas - 100\n",
    "\n",
    "multiplicacion_ventas = suma_ventas * 2\n",
    "\n",
    "division_ventas = suma_ventas / 7\n",
    "\n",
    "print(f\"\\nSuma total de ventas (Beauty): {suma_ventas}\")\n",
    "print(f\"Resta aplicada: {resta_ventas}\")\n",
    "print(f\"Multiplicación (doble de ventas): {multiplicacion_ventas}\")\n",
    "print(f\"Promedio diario dividido entre 7 días: {division_ventas}\")"
   ]
  }
 ],
 "metadata": {
  "kernelspec": {
   "display_name": ".venv",
   "language": "python",
   "name": "python3"
  },
  "language_info": {
   "codemirror_mode": {
    "name": "ipython",
    "version": 3
   },
   "file_extension": ".py",
   "mimetype": "text/x-python",
   "name": "python",
   "nbconvert_exporter": "python",
   "pygments_lexer": "ipython3",
   "version": "3.13.0"
  }
 },
 "nbformat": 4,
 "nbformat_minor": 2
}
